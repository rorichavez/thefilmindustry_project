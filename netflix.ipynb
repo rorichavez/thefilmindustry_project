{
 "cells": [
  {
   "cell_type": "markdown",
   "id": "6b6d785b-42d5-4168-b8c4-3ecc070cba2e",
   "metadata": {},
   "source": [
    "# NETFLIX DATAFRAME"
   ]
  },
  {
   "cell_type": "markdown",
   "id": "a87d4a36-e0d1-4b5e-9ff3-2878bb098b06",
   "metadata": {},
   "source": [
    "1. Data Cleaning and Formatting\n",
    "2. Data Aggregation and Filtering\n",
    "3. Data Structuring and Combining Data"
   ]
  },
  {
   "cell_type": "markdown",
   "id": "6561b8cf-c069-490c-b965-cd4689e84322",
   "metadata": {
    "jp-MarkdownHeadingCollapsed": true
   },
   "source": [
    "## Import library & import csv"
   ]
  },
  {
   "cell_type": "code",
   "execution_count": 2,
   "id": "251f9500-e602-4577-8691-056d61e6c242",
   "metadata": {},
   "outputs": [],
   "source": [
    "# Import all libraries. \n",
    "\n",
    "import pandas as pd\n",
    "import numpy as np\n",
    "import re\n",
    "import seaborn as sns \n",
    "import matplotlib.pyplot as plt"
   ]
  },
  {
   "cell_type": "code",
   "execution_count": 3,
   "id": "cf861e18-7912-4b61-b2b3-977a2610590e",
   "metadata": {},
   "outputs": [],
   "source": [
    "# Import the csv.\n",
    "\n",
    "netflix = pd.read_csv(\"/Users/roraimachavez/Downloads/7.IRONHACK/Projects/data-wrangling-project/src/netflix_titles.csv\")"
   ]
  },
  {
   "cell_type": "markdown",
   "id": "d27fcd8a-b88c-44e0-93a8-992b16b4ac41",
   "metadata": {
    "jp-MarkdownHeadingCollapsed": true
   },
   "source": [
    "## General information"
   ]
  },
  {
   "cell_type": "code",
   "execution_count": 4,
   "id": "7539822a-b743-4190-8d1f-f6410693beec",
   "metadata": {},
   "outputs": [
    {
     "data": {
      "text/html": [
       "<div>\n",
       "<style scoped>\n",
       "    .dataframe tbody tr th:only-of-type {\n",
       "        vertical-align: middle;\n",
       "    }\n",
       "\n",
       "    .dataframe tbody tr th {\n",
       "        vertical-align: top;\n",
       "    }\n",
       "\n",
       "    .dataframe thead th {\n",
       "        text-align: right;\n",
       "    }\n",
       "</style>\n",
       "<table border=\"1\" class=\"dataframe\">\n",
       "  <thead>\n",
       "    <tr style=\"text-align: right;\">\n",
       "      <th></th>\n",
       "      <th>show_id</th>\n",
       "      <th>type</th>\n",
       "      <th>title</th>\n",
       "      <th>director</th>\n",
       "      <th>cast</th>\n",
       "      <th>country</th>\n",
       "      <th>date_added</th>\n",
       "      <th>release_year</th>\n",
       "      <th>rating</th>\n",
       "      <th>duration</th>\n",
       "      <th>listed_in</th>\n",
       "      <th>description</th>\n",
       "    </tr>\n",
       "  </thead>\n",
       "  <tbody>\n",
       "    <tr>\n",
       "      <th>0</th>\n",
       "      <td>s1</td>\n",
       "      <td>Movie</td>\n",
       "      <td>Dick Johnson Is Dead</td>\n",
       "      <td>Kirsten Johnson</td>\n",
       "      <td>NaN</td>\n",
       "      <td>United States</td>\n",
       "      <td>September 25, 2021</td>\n",
       "      <td>2020</td>\n",
       "      <td>PG-13</td>\n",
       "      <td>90 min</td>\n",
       "      <td>Documentaries</td>\n",
       "      <td>As her father nears the end of his life, filmm...</td>\n",
       "    </tr>\n",
       "    <tr>\n",
       "      <th>1</th>\n",
       "      <td>s2</td>\n",
       "      <td>TV Show</td>\n",
       "      <td>Blood &amp; Water</td>\n",
       "      <td>NaN</td>\n",
       "      <td>Ama Qamata, Khosi Ngema, Gail Mabalane, Thaban...</td>\n",
       "      <td>South Africa</td>\n",
       "      <td>September 24, 2021</td>\n",
       "      <td>2021</td>\n",
       "      <td>TV-MA</td>\n",
       "      <td>2 Seasons</td>\n",
       "      <td>International TV Shows, TV Dramas, TV Mysteries</td>\n",
       "      <td>After crossing paths at a party, a Cape Town t...</td>\n",
       "    </tr>\n",
       "    <tr>\n",
       "      <th>2</th>\n",
       "      <td>s3</td>\n",
       "      <td>TV Show</td>\n",
       "      <td>Ganglands</td>\n",
       "      <td>Julien Leclercq</td>\n",
       "      <td>Sami Bouajila, Tracy Gotoas, Samuel Jouy, Nabi...</td>\n",
       "      <td>NaN</td>\n",
       "      <td>September 24, 2021</td>\n",
       "      <td>2021</td>\n",
       "      <td>TV-MA</td>\n",
       "      <td>1 Season</td>\n",
       "      <td>Crime TV Shows, International TV Shows, TV Act...</td>\n",
       "      <td>To protect his family from a powerful drug lor...</td>\n",
       "    </tr>\n",
       "    <tr>\n",
       "      <th>3</th>\n",
       "      <td>s4</td>\n",
       "      <td>TV Show</td>\n",
       "      <td>Jailbirds New Orleans</td>\n",
       "      <td>NaN</td>\n",
       "      <td>NaN</td>\n",
       "      <td>NaN</td>\n",
       "      <td>September 24, 2021</td>\n",
       "      <td>2021</td>\n",
       "      <td>TV-MA</td>\n",
       "      <td>1 Season</td>\n",
       "      <td>Docuseries, Reality TV</td>\n",
       "      <td>Feuds, flirtations and toilet talk go down amo...</td>\n",
       "    </tr>\n",
       "    <tr>\n",
       "      <th>4</th>\n",
       "      <td>s5</td>\n",
       "      <td>TV Show</td>\n",
       "      <td>Kota Factory</td>\n",
       "      <td>NaN</td>\n",
       "      <td>Mayur More, Jitendra Kumar, Ranjan Raj, Alam K...</td>\n",
       "      <td>India</td>\n",
       "      <td>September 24, 2021</td>\n",
       "      <td>2021</td>\n",
       "      <td>TV-MA</td>\n",
       "      <td>2 Seasons</td>\n",
       "      <td>International TV Shows, Romantic TV Shows, TV ...</td>\n",
       "      <td>In a city of coaching centers known to train I...</td>\n",
       "    </tr>\n",
       "    <tr>\n",
       "      <th>...</th>\n",
       "      <td>...</td>\n",
       "      <td>...</td>\n",
       "      <td>...</td>\n",
       "      <td>...</td>\n",
       "      <td>...</td>\n",
       "      <td>...</td>\n",
       "      <td>...</td>\n",
       "      <td>...</td>\n",
       "      <td>...</td>\n",
       "      <td>...</td>\n",
       "      <td>...</td>\n",
       "      <td>...</td>\n",
       "    </tr>\n",
       "    <tr>\n",
       "      <th>8802</th>\n",
       "      <td>s8803</td>\n",
       "      <td>Movie</td>\n",
       "      <td>Zodiac</td>\n",
       "      <td>David Fincher</td>\n",
       "      <td>Mark Ruffalo, Jake Gyllenhaal, Robert Downey J...</td>\n",
       "      <td>United States</td>\n",
       "      <td>November 20, 2019</td>\n",
       "      <td>2007</td>\n",
       "      <td>R</td>\n",
       "      <td>158 min</td>\n",
       "      <td>Cult Movies, Dramas, Thrillers</td>\n",
       "      <td>A political cartoonist, a crime reporter and a...</td>\n",
       "    </tr>\n",
       "    <tr>\n",
       "      <th>8803</th>\n",
       "      <td>s8804</td>\n",
       "      <td>TV Show</td>\n",
       "      <td>Zombie Dumb</td>\n",
       "      <td>NaN</td>\n",
       "      <td>NaN</td>\n",
       "      <td>NaN</td>\n",
       "      <td>July 1, 2019</td>\n",
       "      <td>2018</td>\n",
       "      <td>TV-Y7</td>\n",
       "      <td>2 Seasons</td>\n",
       "      <td>Kids' TV, Korean TV Shows, TV Comedies</td>\n",
       "      <td>While living alone in a spooky town, a young g...</td>\n",
       "    </tr>\n",
       "    <tr>\n",
       "      <th>8804</th>\n",
       "      <td>s8805</td>\n",
       "      <td>Movie</td>\n",
       "      <td>Zombieland</td>\n",
       "      <td>Ruben Fleischer</td>\n",
       "      <td>Jesse Eisenberg, Woody Harrelson, Emma Stone, ...</td>\n",
       "      <td>United States</td>\n",
       "      <td>November 1, 2019</td>\n",
       "      <td>2009</td>\n",
       "      <td>R</td>\n",
       "      <td>88 min</td>\n",
       "      <td>Comedies, Horror Movies</td>\n",
       "      <td>Looking to survive in a world taken over by zo...</td>\n",
       "    </tr>\n",
       "    <tr>\n",
       "      <th>8805</th>\n",
       "      <td>s8806</td>\n",
       "      <td>Movie</td>\n",
       "      <td>Zoom</td>\n",
       "      <td>Peter Hewitt</td>\n",
       "      <td>Tim Allen, Courteney Cox, Chevy Chase, Kate Ma...</td>\n",
       "      <td>United States</td>\n",
       "      <td>January 11, 2020</td>\n",
       "      <td>2006</td>\n",
       "      <td>PG</td>\n",
       "      <td>88 min</td>\n",
       "      <td>Children &amp; Family Movies, Comedies</td>\n",
       "      <td>Dragged from civilian life, a former superhero...</td>\n",
       "    </tr>\n",
       "    <tr>\n",
       "      <th>8806</th>\n",
       "      <td>s8807</td>\n",
       "      <td>Movie</td>\n",
       "      <td>Zubaan</td>\n",
       "      <td>Mozez Singh</td>\n",
       "      <td>Vicky Kaushal, Sarah-Jane Dias, Raaghav Chanan...</td>\n",
       "      <td>India</td>\n",
       "      <td>March 2, 2019</td>\n",
       "      <td>2015</td>\n",
       "      <td>TV-14</td>\n",
       "      <td>111 min</td>\n",
       "      <td>Dramas, International Movies, Music &amp; Musicals</td>\n",
       "      <td>A scrappy but poor boy worms his way into a ty...</td>\n",
       "    </tr>\n",
       "  </tbody>\n",
       "</table>\n",
       "<p>8807 rows × 12 columns</p>\n",
       "</div>"
      ],
      "text/plain": [
       "     show_id     type                  title         director  \\\n",
       "0         s1    Movie   Dick Johnson Is Dead  Kirsten Johnson   \n",
       "1         s2  TV Show          Blood & Water              NaN   \n",
       "2         s3  TV Show              Ganglands  Julien Leclercq   \n",
       "3         s4  TV Show  Jailbirds New Orleans              NaN   \n",
       "4         s5  TV Show           Kota Factory              NaN   \n",
       "...      ...      ...                    ...              ...   \n",
       "8802   s8803    Movie                 Zodiac    David Fincher   \n",
       "8803   s8804  TV Show            Zombie Dumb              NaN   \n",
       "8804   s8805    Movie             Zombieland  Ruben Fleischer   \n",
       "8805   s8806    Movie                   Zoom     Peter Hewitt   \n",
       "8806   s8807    Movie                 Zubaan      Mozez Singh   \n",
       "\n",
       "                                                   cast        country  \\\n",
       "0                                                   NaN  United States   \n",
       "1     Ama Qamata, Khosi Ngema, Gail Mabalane, Thaban...   South Africa   \n",
       "2     Sami Bouajila, Tracy Gotoas, Samuel Jouy, Nabi...            NaN   \n",
       "3                                                   NaN            NaN   \n",
       "4     Mayur More, Jitendra Kumar, Ranjan Raj, Alam K...          India   \n",
       "...                                                 ...            ...   \n",
       "8802  Mark Ruffalo, Jake Gyllenhaal, Robert Downey J...  United States   \n",
       "8803                                                NaN            NaN   \n",
       "8804  Jesse Eisenberg, Woody Harrelson, Emma Stone, ...  United States   \n",
       "8805  Tim Allen, Courteney Cox, Chevy Chase, Kate Ma...  United States   \n",
       "8806  Vicky Kaushal, Sarah-Jane Dias, Raaghav Chanan...          India   \n",
       "\n",
       "              date_added  release_year rating   duration  \\\n",
       "0     September 25, 2021          2020  PG-13     90 min   \n",
       "1     September 24, 2021          2021  TV-MA  2 Seasons   \n",
       "2     September 24, 2021          2021  TV-MA   1 Season   \n",
       "3     September 24, 2021          2021  TV-MA   1 Season   \n",
       "4     September 24, 2021          2021  TV-MA  2 Seasons   \n",
       "...                  ...           ...    ...        ...   \n",
       "8802   November 20, 2019          2007      R    158 min   \n",
       "8803        July 1, 2019          2018  TV-Y7  2 Seasons   \n",
       "8804    November 1, 2019          2009      R     88 min   \n",
       "8805    January 11, 2020          2006     PG     88 min   \n",
       "8806       March 2, 2019          2015  TV-14    111 min   \n",
       "\n",
       "                                              listed_in  \\\n",
       "0                                         Documentaries   \n",
       "1       International TV Shows, TV Dramas, TV Mysteries   \n",
       "2     Crime TV Shows, International TV Shows, TV Act...   \n",
       "3                                Docuseries, Reality TV   \n",
       "4     International TV Shows, Romantic TV Shows, TV ...   \n",
       "...                                                 ...   \n",
       "8802                     Cult Movies, Dramas, Thrillers   \n",
       "8803             Kids' TV, Korean TV Shows, TV Comedies   \n",
       "8804                            Comedies, Horror Movies   \n",
       "8805                 Children & Family Movies, Comedies   \n",
       "8806     Dramas, International Movies, Music & Musicals   \n",
       "\n",
       "                                            description  \n",
       "0     As her father nears the end of his life, filmm...  \n",
       "1     After crossing paths at a party, a Cape Town t...  \n",
       "2     To protect his family from a powerful drug lor...  \n",
       "3     Feuds, flirtations and toilet talk go down amo...  \n",
       "4     In a city of coaching centers known to train I...  \n",
       "...                                                 ...  \n",
       "8802  A political cartoonist, a crime reporter and a...  \n",
       "8803  While living alone in a spooky town, a young g...  \n",
       "8804  Looking to survive in a world taken over by zo...  \n",
       "8805  Dragged from civilian life, a former superhero...  \n",
       "8806  A scrappy but poor boy worms his way into a ty...  \n",
       "\n",
       "[8807 rows x 12 columns]"
      ]
     },
     "execution_count": 4,
     "metadata": {},
     "output_type": "execute_result"
    }
   ],
   "source": [
    "netflix #General info of the DataFrame"
   ]
  },
  {
   "cell_type": "code",
   "execution_count": 5,
   "id": "12a54eb3-e943-4c10-bcb7-a2ff6e08f434",
   "metadata": {},
   "outputs": [
    {
     "name": "stdout",
     "output_type": "stream",
     "text": [
      "<class 'pandas.core.frame.DataFrame'>\n",
      "RangeIndex: 8807 entries, 0 to 8806\n",
      "Data columns (total 12 columns):\n",
      " #   Column        Non-Null Count  Dtype \n",
      "---  ------        --------------  ----- \n",
      " 0   show_id       8807 non-null   object\n",
      " 1   type          8807 non-null   object\n",
      " 2   title         8807 non-null   object\n",
      " 3   director      6173 non-null   object\n",
      " 4   cast          7982 non-null   object\n",
      " 5   country       7976 non-null   object\n",
      " 6   date_added    8797 non-null   object\n",
      " 7   release_year  8807 non-null   int64 \n",
      " 8   rating        8803 non-null   object\n",
      " 9   duration      8804 non-null   object\n",
      " 10  listed_in     8807 non-null   object\n",
      " 11  description   8807 non-null   object\n",
      "dtypes: int64(1), object(11)\n",
      "memory usage: 825.8+ KB\n"
     ]
    }
   ],
   "source": [
    "netflix.info()"
   ]
  },
  {
   "cell_type": "markdown",
   "id": "98492c6d-4a29-4a12-8ebe-ad69dacf2423",
   "metadata": {},
   "source": [
    "`Rows: 8807`\n",
    "\n",
    "`Columns: 12`"
   ]
  },
  {
   "cell_type": "markdown",
   "id": "b97710a5-3b31-49d9-bf7e-ba06778174b9",
   "metadata": {
    "jp-MarkdownHeadingCollapsed": true
   },
   "source": [
    "## Data cleaning & formatting"
   ]
  },
  {
   "cell_type": "markdown",
   "id": "41a3809d-307e-4edf-89aa-5d2b16859953",
   "metadata": {},
   "source": [
    "1. Edit column names.\n",
    "2. Delete columns I won't use.\n",
    "3. Sort last 10 years.\n",
    "4. Delete duplicate rows.\n",
    "5. Delete nulls values.\n",
    "6. Tranform columns types if it is neccesary.\n",
    "7. Add a column for \"plataform\""
   ]
  },
  {
   "cell_type": "markdown",
   "id": "652fe632-f87d-4d17-aba4-798fa73173ef",
   "metadata": {},
   "source": [
    "`Edit column names & Delete columns I won't use.`"
   ]
  },
  {
   "cell_type": "code",
   "execution_count": 6,
   "id": "e4865509-0ec3-4a32-8799-653bfd5f2436",
   "metadata": {},
   "outputs": [],
   "source": [
    "# Edit column names.\n",
    "\n",
    "netflix = netflix.rename(columns=lambda x: x.replace('_', ' '))\n",
    "\n",
    "# Change column name. \n",
    "\n",
    "netflix.rename(columns={'listed in': 'genres'}, inplace=True)\n",
    "\n",
    "# Delete columns I won't use.\n",
    "\n",
    "netflix = netflix.drop([\"show id\", \"date added\", \"rating\", \"duration\", \"description\"], axis=1)"
   ]
  },
  {
   "cell_type": "code",
   "execution_count": 7,
   "id": "2b0b8f9f-0baa-4143-87b2-56159665ecb5",
   "metadata": {},
   "outputs": [
    {
     "name": "stdout",
     "output_type": "stream",
     "text": [
      "<class 'pandas.core.frame.DataFrame'>\n",
      "RangeIndex: 8807 entries, 0 to 8806\n",
      "Data columns (total 7 columns):\n",
      " #   Column        Non-Null Count  Dtype \n",
      "---  ------        --------------  ----- \n",
      " 0   type          8807 non-null   object\n",
      " 1   title         8807 non-null   object\n",
      " 2   director      6173 non-null   object\n",
      " 3   cast          7982 non-null   object\n",
      " 4   country       7976 non-null   object\n",
      " 5   release year  8807 non-null   int64 \n",
      " 6   genres        8807 non-null   object\n",
      "dtypes: int64(1), object(6)\n",
      "memory usage: 481.8+ KB\n"
     ]
    }
   ],
   "source": [
    "netflix.info()"
   ]
  },
  {
   "cell_type": "markdown",
   "id": "86575278-4e11-4c49-a679-8b6e1f7156c5",
   "metadata": {},
   "source": [
    "`Delete rows & Filter data since 2014 to 2024 (10 years).`"
   ]
  },
  {
   "cell_type": "code",
   "execution_count": 8,
   "id": "14de456d-82ea-49cb-94c5-d5a6e4007348",
   "metadata": {},
   "outputs": [],
   "source": [
    "# Delete rows. I'm only using data since 2014 to 2024 (10 years).\n",
    "netflix_filter = netflix.loc[(netflix['release year'] > 2013) & (netflix['release year'] <= 2024)] \n",
    "netflix = netflix_filter.copy() #assign the new dataframe to the old one"
   ]
  },
  {
   "cell_type": "code",
   "execution_count": 9,
   "id": "80bd2426-21b4-47d9-a8ef-7b8850c182b0",
   "metadata": {},
   "outputs": [
    {
     "data": {
      "text/plain": [
       "(6568, 7)"
      ]
     },
     "execution_count": 9,
     "metadata": {},
     "output_type": "execute_result"
    }
   ],
   "source": [
    "netflix.shape"
   ]
  },
  {
   "cell_type": "markdown",
   "id": "405a699d-5f7b-48af-9dd4-6ae76c45eff7",
   "metadata": {},
   "source": [
    "`Delete duplicade data.`"
   ]
  },
  {
   "cell_type": "code",
   "execution_count": 10,
   "id": "dab402cf-aacc-4a27-b0dd-34ae5c570db7",
   "metadata": {},
   "outputs": [],
   "source": [
    "# Delete duplicates rows.\n",
    "netflix_drop_duplicates = netflix.drop_duplicates()\n",
    "netflix = netflix_drop_duplicates.copy()"
   ]
  },
  {
   "cell_type": "code",
   "execution_count": 11,
   "id": "e31dcf58-ceba-4e69-a1fb-e7380145c291",
   "metadata": {},
   "outputs": [
    {
     "data": {
      "text/plain": [
       "(6568, 7)"
      ]
     },
     "execution_count": 11,
     "metadata": {},
     "output_type": "execute_result"
    }
   ],
   "source": [
    "netflix.shape # There wasn't any duplicates rows"
   ]
  },
  {
   "cell_type": "markdown",
   "id": "6c82a836-6d21-402c-9799-32ccf824a25d",
   "metadata": {},
   "source": [
    "`Check null values.`"
   ]
  },
  {
   "cell_type": "code",
   "execution_count": 12,
   "id": "eeaef954-f89c-4e48-952e-692bb86e2534",
   "metadata": {},
   "outputs": [
    {
     "data": {
      "text/plain": [
       "type               0\n",
       "title              0\n",
       "director        2241\n",
       "cast             746\n",
       "country          729\n",
       "release year       0\n",
       "genres             0\n",
       "dtype: int64"
      ]
     },
     "execution_count": 12,
     "metadata": {},
     "output_type": "execute_result"
    }
   ],
   "source": [
    "# Check how many nulls values do we have.\n",
    "num_nans = netflix.isna().sum() \n",
    "num_nans"
   ]
  },
  {
   "cell_type": "code",
   "execution_count": 13,
   "id": "7aa65550-0abf-440d-ab71-714d2fcfb451",
   "metadata": {},
   "outputs": [],
   "source": [
    "# Chance null values.\n",
    "for col in netflix.columns:\n",
    "    netflix[col].fillna(\"not found\", inplace=True)"
   ]
  },
  {
   "cell_type": "code",
   "execution_count": 14,
   "id": "f1411eb7-922a-4d51-9dbd-7647bcd5ce64",
   "metadata": {},
   "outputs": [
    {
     "data": {
      "text/plain": [
       "type            0\n",
       "title           0\n",
       "director        0\n",
       "cast            0\n",
       "country         0\n",
       "release year    0\n",
       "genres          0\n",
       "dtype: int64"
      ]
     },
     "execution_count": 14,
     "metadata": {},
     "output_type": "execute_result"
    }
   ],
   "source": [
    "num_nans = netflix.isna().sum() \n",
    "num_nans"
   ]
  },
  {
   "cell_type": "markdown",
   "id": "9b935758-13e5-4b4c-a206-345c22fcf3ae",
   "metadata": {},
   "source": [
    "`Add a column for name the plataform.`"
   ]
  },
  {
   "cell_type": "code",
   "execution_count": 15,
   "id": "3f43d567-c410-4ab4-88e5-2727a9c70d50",
   "metadata": {},
   "outputs": [],
   "source": [
    "# Add a column for \"plataform\"\n",
    "netflix['platform'] = 'Netflix'"
   ]
  },
  {
   "cell_type": "code",
   "execution_count": 16,
   "id": "a52b3794-448e-4da5-b055-2f67a1bd729a",
   "metadata": {},
   "outputs": [
    {
     "name": "stdout",
     "output_type": "stream",
     "text": [
      "<class 'pandas.core.frame.DataFrame'>\n",
      "Index: 6568 entries, 0 to 8806\n",
      "Data columns (total 8 columns):\n",
      " #   Column        Non-Null Count  Dtype \n",
      "---  ------        --------------  ----- \n",
      " 0   type          6568 non-null   object\n",
      " 1   title         6568 non-null   object\n",
      " 2   director      6568 non-null   object\n",
      " 3   cast          6568 non-null   object\n",
      " 4   country       6568 non-null   object\n",
      " 5   release year  6568 non-null   int64 \n",
      " 6   genres        6568 non-null   object\n",
      " 7   platform      6568 non-null   object\n",
      "dtypes: int64(1), object(7)\n",
      "memory usage: 461.8+ KB\n"
     ]
    }
   ],
   "source": [
    "netflix.info()"
   ]
  },
  {
   "cell_type": "code",
   "execution_count": 17,
   "id": "4024cb71-edf2-47c7-a648-fa7deac014af",
   "metadata": {},
   "outputs": [
    {
     "data": {
      "text/html": [
       "<div>\n",
       "<style scoped>\n",
       "    .dataframe tbody tr th:only-of-type {\n",
       "        vertical-align: middle;\n",
       "    }\n",
       "\n",
       "    .dataframe tbody tr th {\n",
       "        vertical-align: top;\n",
       "    }\n",
       "\n",
       "    .dataframe thead th {\n",
       "        text-align: right;\n",
       "    }\n",
       "</style>\n",
       "<table border=\"1\" class=\"dataframe\">\n",
       "  <thead>\n",
       "    <tr style=\"text-align: right;\">\n",
       "      <th></th>\n",
       "      <th>type</th>\n",
       "      <th>title</th>\n",
       "      <th>director</th>\n",
       "      <th>cast</th>\n",
       "      <th>country</th>\n",
       "      <th>release year</th>\n",
       "      <th>genres</th>\n",
       "      <th>platform</th>\n",
       "    </tr>\n",
       "  </thead>\n",
       "  <tbody>\n",
       "    <tr>\n",
       "      <th>0</th>\n",
       "      <td>Movie</td>\n",
       "      <td>Dick Johnson Is Dead</td>\n",
       "      <td>Kirsten Johnson</td>\n",
       "      <td>not found</td>\n",
       "      <td>United States</td>\n",
       "      <td>2020</td>\n",
       "      <td>Documentaries</td>\n",
       "      <td>Netflix</td>\n",
       "    </tr>\n",
       "    <tr>\n",
       "      <th>1</th>\n",
       "      <td>TV Show</td>\n",
       "      <td>Blood &amp; Water</td>\n",
       "      <td>not found</td>\n",
       "      <td>Ama Qamata, Khosi Ngema, Gail Mabalane, Thaban...</td>\n",
       "      <td>South Africa</td>\n",
       "      <td>2021</td>\n",
       "      <td>International TV Shows, TV Dramas, TV Mysteries</td>\n",
       "      <td>Netflix</td>\n",
       "    </tr>\n",
       "    <tr>\n",
       "      <th>2</th>\n",
       "      <td>TV Show</td>\n",
       "      <td>Ganglands</td>\n",
       "      <td>Julien Leclercq</td>\n",
       "      <td>Sami Bouajila, Tracy Gotoas, Samuel Jouy, Nabi...</td>\n",
       "      <td>not found</td>\n",
       "      <td>2021</td>\n",
       "      <td>Crime TV Shows, International TV Shows, TV Act...</td>\n",
       "      <td>Netflix</td>\n",
       "    </tr>\n",
       "    <tr>\n",
       "      <th>3</th>\n",
       "      <td>TV Show</td>\n",
       "      <td>Jailbirds New Orleans</td>\n",
       "      <td>not found</td>\n",
       "      <td>not found</td>\n",
       "      <td>not found</td>\n",
       "      <td>2021</td>\n",
       "      <td>Docuseries, Reality TV</td>\n",
       "      <td>Netflix</td>\n",
       "    </tr>\n",
       "    <tr>\n",
       "      <th>4</th>\n",
       "      <td>TV Show</td>\n",
       "      <td>Kota Factory</td>\n",
       "      <td>not found</td>\n",
       "      <td>Mayur More, Jitendra Kumar, Ranjan Raj, Alam K...</td>\n",
       "      <td>India</td>\n",
       "      <td>2021</td>\n",
       "      <td>International TV Shows, Romantic TV Shows, TV ...</td>\n",
       "      <td>Netflix</td>\n",
       "    </tr>\n",
       "  </tbody>\n",
       "</table>\n",
       "</div>"
      ],
      "text/plain": [
       "      type                  title         director  \\\n",
       "0    Movie   Dick Johnson Is Dead  Kirsten Johnson   \n",
       "1  TV Show          Blood & Water        not found   \n",
       "2  TV Show              Ganglands  Julien Leclercq   \n",
       "3  TV Show  Jailbirds New Orleans        not found   \n",
       "4  TV Show           Kota Factory        not found   \n",
       "\n",
       "                                                cast        country  \\\n",
       "0                                          not found  United States   \n",
       "1  Ama Qamata, Khosi Ngema, Gail Mabalane, Thaban...   South Africa   \n",
       "2  Sami Bouajila, Tracy Gotoas, Samuel Jouy, Nabi...      not found   \n",
       "3                                          not found      not found   \n",
       "4  Mayur More, Jitendra Kumar, Ranjan Raj, Alam K...          India   \n",
       "\n",
       "   release year                                             genres platform  \n",
       "0          2020                                      Documentaries  Netflix  \n",
       "1          2021    International TV Shows, TV Dramas, TV Mysteries  Netflix  \n",
       "2          2021  Crime TV Shows, International TV Shows, TV Act...  Netflix  \n",
       "3          2021                             Docuseries, Reality TV  Netflix  \n",
       "4          2021  International TV Shows, Romantic TV Shows, TV ...  Netflix  "
      ]
     },
     "execution_count": 17,
     "metadata": {},
     "output_type": "execute_result"
    }
   ],
   "source": [
    "netflix.head()"
   ]
  },
  {
   "cell_type": "markdown",
   "id": "b148ce2b-bf25-4d82-95f8-801cdda50de8",
   "metadata": {},
   "source": [
    "## Genre filtre"
   ]
  },
  {
   "cell_type": "code",
   "execution_count": 18,
   "id": "f4ab28de-1ee0-455f-a8f2-49951fb2f3b2",
   "metadata": {},
   "outputs": [],
   "source": [
    "# Make columns per genres.\n",
    "dfnet = pd.concat([\n",
    "    netflix, \n",
    "    netflix['genres'].str.get_dummies(sep=',')[[\n",
    "        'Romantic TV Shows','TV Comedies','TV Dramas','TV Horror','TV Sci-Fi & Fantasy',\n",
    "        'TV Action & Adventure','Anime Features','Children & Family Movies','Reality TV',\n",
    "        'Comedies','Documentaries','Dramas','Romantic Movies','Thrillers',\n",
    "        'Horror Movies','Action & Adventure','Music & Musicals','Sci-Fi & Fantasy']]\n",
    "], axis=1).drop(columns=['genres'])"
   ]
  },
  {
   "cell_type": "code",
   "execution_count": 19,
   "id": "a2e66dc9-f613-4998-a00c-d6d93b71d5f9",
   "metadata": {},
   "outputs": [],
   "source": [
    "# Convert columns names to in lower case\n",
    "dfnet.columns = dfnet.columns.str.lower()"
   ]
  },
  {
   "cell_type": "code",
   "execution_count": 20,
   "id": "7c85c5bf-2404-4433-8d60-412e51f53e56",
   "metadata": {},
   "outputs": [
    {
     "name": "stdout",
     "output_type": "stream",
     "text": [
      "<class 'pandas.core.frame.DataFrame'>\n",
      "Index: 6568 entries, 0 to 8806\n",
      "Data columns (total 25 columns):\n",
      " #   Column                    Non-Null Count  Dtype \n",
      "---  ------                    --------------  ----- \n",
      " 0   type                      6568 non-null   object\n",
      " 1   title                     6568 non-null   object\n",
      " 2   director                  6568 non-null   object\n",
      " 3   cast                      6568 non-null   object\n",
      " 4   country                   6568 non-null   object\n",
      " 5   release year              6568 non-null   int64 \n",
      " 6   platform                  6568 non-null   object\n",
      " 7   romantic tv shows         6568 non-null   int64 \n",
      " 8   tv comedies               6568 non-null   int64 \n",
      " 9   tv dramas                 6568 non-null   int64 \n",
      " 10  tv horror                 6568 non-null   int64 \n",
      " 11  tv sci-fi & fantasy       6568 non-null   int64 \n",
      " 12  tv action & adventure     6568 non-null   int64 \n",
      " 13  anime features            6568 non-null   int64 \n",
      " 14  children & family movies  6568 non-null   int64 \n",
      " 15  reality tv                6568 non-null   int64 \n",
      " 16  comedies                  6568 non-null   int64 \n",
      " 17  documentaries             6568 non-null   int64 \n",
      " 18  dramas                    6568 non-null   int64 \n",
      " 19  romantic movies           6568 non-null   int64 \n",
      " 20  thrillers                 6568 non-null   int64 \n",
      " 21  horror movies             6568 non-null   int64 \n",
      " 22  action & adventure        6568 non-null   int64 \n",
      " 23  music & musicals          6568 non-null   int64 \n",
      " 24  sci-fi & fantasy          6568 non-null   int64 \n",
      "dtypes: int64(19), object(6)\n",
      "memory usage: 1.3+ MB\n"
     ]
    }
   ],
   "source": [
    "dfnet.info()"
   ]
  },
  {
   "cell_type": "code",
   "execution_count": 21,
   "id": "586bf942-1ff8-45ab-8838-079c5786baad",
   "metadata": {},
   "outputs": [],
   "source": [
    "# Create new columns that is the combination of 2.\n",
    "\n",
    "dfnet['romance'] = dfnet['romantic tv shows'] | dfnet['romantic movies']\n",
    "dfnet.drop(columns=['romantic tv shows', 'romantic movies'], inplace=True)\n",
    "\n",
    "dfnet['comedy'] = dfnet['tv comedies'] | dfnet['comedies']\n",
    "dfnet.drop(columns=['tv comedies', 'comedies'], inplace=True)\n",
    "\n",
    "dfnet['drama'] = dfnet['tv dramas'] | dfnet['dramas']\n",
    "dfnet.drop(columns=['tv dramas', 'dramas'], inplace=True)\n",
    "\n",
    "dfnet['horror'] = dfnet['tv horror'] | dfnet['horror movies'] \n",
    "dfnet.drop(columns=['tv horror', 'horror movies'], inplace=True)\n",
    "\n",
    "dfnet['sci-fi & fantasy2'] = dfnet['tv sci-fi & fantasy'] | dfnet['sci-fi & fantasy']\n",
    "dfnet.drop(columns=['tv sci-fi & fantasy', 'sci-fi & fantasy'], inplace=True)\n",
    "\n",
    "dfnet['action & adventure2'] = dfnet['tv action & adventure'] | dfnet['action & adventure']\n",
    "dfnet.drop(columns=['tv action & adventure', 'action & adventure'], inplace=True)"
   ]
  },
  {
   "cell_type": "code",
   "execution_count": 22,
   "id": "b595ccbc-fac1-446f-8cc9-43c52d372fe4",
   "metadata": {},
   "outputs": [],
   "source": [
    "# Change column name. \n",
    "\n",
    "dfnet.rename(columns={'sci-fi & fantasy2': 'sci-fi & fantasy'}, inplace=True)\n",
    "dfnet.rename(columns={'action & adventure2': 'action & adventure'}, inplace=True)\n",
    "dfnet.rename(columns={'anime features': 'animation'}, inplace=True)\n",
    "dfnet.rename(columns={'documentaries': 'documentary'}, inplace=True)\n",
    "dfnet.rename(columns={'children & family movies': 'children & family'}, inplace=True)\n",
    "dfnet.rename(columns={'reality tv': 'entertainment'}, inplace=True)"
   ]
  },
  {
   "cell_type": "code",
   "execution_count": 23,
   "id": "d7de69f6-56a5-4355-8d24-f46f2b506f21",
   "metadata": {},
   "outputs": [
    {
     "name": "stdout",
     "output_type": "stream",
     "text": [
      "<class 'pandas.core.frame.DataFrame'>\n",
      "Index: 6568 entries, 0 to 8806\n",
      "Data columns (total 19 columns):\n",
      " #   Column              Non-Null Count  Dtype \n",
      "---  ------              --------------  ----- \n",
      " 0   type                6568 non-null   object\n",
      " 1   title               6568 non-null   object\n",
      " 2   director            6568 non-null   object\n",
      " 3   cast                6568 non-null   object\n",
      " 4   country             6568 non-null   object\n",
      " 5   release year        6568 non-null   int64 \n",
      " 6   platform            6568 non-null   object\n",
      " 7   animation           6568 non-null   int64 \n",
      " 8   children & family   6568 non-null   int64 \n",
      " 9   entertainment       6568 non-null   int64 \n",
      " 10  documentary         6568 non-null   int64 \n",
      " 11  thrillers           6568 non-null   int64 \n",
      " 12  music & musicals    6568 non-null   int64 \n",
      " 13  romance             6568 non-null   int64 \n",
      " 14  comedy              6568 non-null   int64 \n",
      " 15  drama               6568 non-null   int64 \n",
      " 16  horror              6568 non-null   int64 \n",
      " 17  sci-fi & fantasy    6568 non-null   int64 \n",
      " 18  action & adventure  6568 non-null   int64 \n",
      "dtypes: int64(13), object(6)\n",
      "memory usage: 1.0+ MB\n"
     ]
    }
   ],
   "source": [
    "dfnet.info()"
   ]
  },
  {
   "cell_type": "code",
   "execution_count": 24,
   "id": "faa974c9-cdaf-472f-834f-534ed327d5f5",
   "metadata": {},
   "outputs": [],
   "source": [
    "# Rename new columns.\n",
    "dfnet.rename(columns={\n",
    "    'horror movies': 'horror', \n",
    "    'romantic movies': 'romantic',\n",
    "    'romantic tv shows': 'tv romantic',\n",
    "    'children & family movies': 'children & family',\n",
    "    'anime features': 'anime',\n",
    "    'reality tv': 'tv reality',\n",
    "    'anime features': 'anime',\n",
    "    'comedies': 'comedy',\n",
    "    'documentaries': 'documentary',\n",
    "    'dramas': 'drama',\n",
    "    'romantic': 'romance'},\n",
    "    inplace=True)"
   ]
  },
  {
   "cell_type": "code",
   "execution_count": 25,
   "id": "65efa653-43fd-4cad-bf1c-1dca2ae5b13a",
   "metadata": {},
   "outputs": [
    {
     "data": {
      "text/plain": [
       "type                  0\n",
       "title                 0\n",
       "director              0\n",
       "cast                  0\n",
       "country               0\n",
       "release year          0\n",
       "platform              0\n",
       "animation             0\n",
       "children & family     0\n",
       "entertainment         0\n",
       "documentary           0\n",
       "thrillers             0\n",
       "music & musicals      0\n",
       "romance               0\n",
       "comedy                0\n",
       "drama                 0\n",
       "horror                0\n",
       "sci-fi & fantasy      0\n",
       "action & adventure    0\n",
       "dtype: int64"
      ]
     },
     "execution_count": 25,
     "metadata": {},
     "output_type": "execute_result"
    }
   ],
   "source": [
    "# Check null values. \n",
    "num_nans = dfnet.isna().sum() \n",
    "num_nans"
   ]
  },
  {
   "cell_type": "code",
   "execution_count": 26,
   "id": "cb5304b2-25cf-4a70-a56d-d08452a74760",
   "metadata": {},
   "outputs": [],
   "source": [
    "# Save DataFrame\n",
    "dfnet.to_csv('netflix.csv', index=True)"
   ]
  },
  {
   "cell_type": "code",
   "execution_count": null,
   "id": "cf25d1f5-d1b0-4cc4-a023-c30ddcf7ad9a",
   "metadata": {},
   "outputs": [],
   "source": []
  }
 ],
 "metadata": {
  "kernelspec": {
   "display_name": "Python 3 (ipykernel)",
   "language": "python",
   "name": "python3"
  },
  "language_info": {
   "codemirror_mode": {
    "name": "ipython",
    "version": 3
   },
   "file_extension": ".py",
   "mimetype": "text/x-python",
   "name": "python",
   "nbconvert_exporter": "python",
   "pygments_lexer": "ipython3",
   "version": "3.11.7"
  }
 },
 "nbformat": 4,
 "nbformat_minor": 5
}
